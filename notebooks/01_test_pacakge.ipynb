{
 "cells": [
  {
   "cell_type": "code",
   "execution_count": 5,
   "metadata": {},
   "outputs": [],
   "source": [
    "from pyepwmorph.tools import io as pio"
   ]
  },
  {
   "cell_type": "code",
   "execution_count": 6,
   "metadata": {},
   "outputs": [
    {
     "name": "stdout",
     "output_type": "stream",
     "text": [
      "TMY file hours reduced from 1-24h to 0-23h\n"
     ]
    }
   ],
   "source": [
    "filepath=\"/Users/jmccarty/Downloads/CHE_GE_Geneva/CHE_GE_Geneva.Intl.AP.067000_TMYx.2004-2018.epw\"\n",
    "epw_df = pio.read_epw_dataframe(filepath)"
   ]
  },
  {
   "cell_type": "code",
   "execution_count": 7,
   "metadata": {},
   "outputs": [],
   "source": [
    "from pyepwmorph.tools import workflow as pwk"
   ]
  },
  {
   "cell_type": "code",
   "execution_count": 9,
   "metadata": {},
   "outputs": [
    {
     "name": "stdout",
     "output_type": "stream",
     "text": [
      "\n",
      "Compiling model data for 'historical' and 'tas'.\n",
      "\n",
      "--> The keys in the returned dictionary of datasets are constructed as follows:\n",
      "\t'activity_id.institution_id.source_id.experiment_id.table_id.grid_label'\n"
     ]
    },
    {
     "data": {
      "text/html": [
       "\n",
       "<style>\n",
       "    /* Turns off some styling */\n",
       "    progress {\n",
       "        /* gets rid of default border in Firefox and Opera. */\n",
       "        border: none;\n",
       "        /* Needs to be in here for Safari polyfill so background images work as expected. */\n",
       "        background-size: auto;\n",
       "    }\n",
       "    progress:not([value]), progress:not([value])::-webkit-progress-bar {\n",
       "        background: repeating-linear-gradient(45deg, #7e7e7e, #7e7e7e 10px, #5c5c5c 10px, #5c5c5c 20px);\n",
       "    }\n",
       "    .progress-bar-interrupted, .progress-bar-interrupted::-webkit-progress-bar {\n",
       "        background: #F44336;\n",
       "    }\n",
       "</style>\n"
      ],
      "text/plain": [
       "<IPython.core.display.HTML object>"
      ]
     },
     "metadata": {},
     "output_type": "display_data"
    },
    {
     "data": {
      "text/html": [
       "\n",
       "    <div>\n",
       "      <progress value='3' class='' max='3' style='width:300px; height:20px; vertical-align: middle;'></progress>\n",
       "      100.00% [3/3 00:08&lt;00:00]\n",
       "    </div>\n",
       "    "
      ],
      "text/plain": [
       "<IPython.core.display.HTML object>"
      ]
     },
     "metadata": {},
     "output_type": "display_data"
    },
    {
     "name": "stdout",
     "output_type": "stream",
     "text": [
      "CMIP.CSIRO-ARCCSS.ACCESS-CM2.historical.Amon.gn\n",
      "CMIP.CCCma.CanESM5.historical.Amon.gn\n",
      "CMIP.AS-RCEC.TaiESM1.historical.Amon.gn\n",
      "\n",
      "Compiling model data for 'historical' and 'tasmax'.\n",
      "\n",
      "--> The keys in the returned dictionary of datasets are constructed as follows:\n",
      "\t'activity_id.institution_id.source_id.experiment_id.table_id.grid_label'\n"
     ]
    },
    {
     "data": {
      "text/html": [
       "\n",
       "<style>\n",
       "    /* Turns off some styling */\n",
       "    progress {\n",
       "        /* gets rid of default border in Firefox and Opera. */\n",
       "        border: none;\n",
       "        /* Needs to be in here for Safari polyfill so background images work as expected. */\n",
       "        background-size: auto;\n",
       "    }\n",
       "    progress:not([value]), progress:not([value])::-webkit-progress-bar {\n",
       "        background: repeating-linear-gradient(45deg, #7e7e7e, #7e7e7e 10px, #5c5c5c 10px, #5c5c5c 20px);\n",
       "    }\n",
       "    .progress-bar-interrupted, .progress-bar-interrupted::-webkit-progress-bar {\n",
       "        background: #F44336;\n",
       "    }\n",
       "</style>\n"
      ],
      "text/plain": [
       "<IPython.core.display.HTML object>"
      ]
     },
     "metadata": {},
     "output_type": "display_data"
    },
    {
     "data": {
      "text/html": [
       "\n",
       "    <div>\n",
       "      <progress value='2' class='' max='2' style='width:300px; height:20px; vertical-align: middle;'></progress>\n",
       "      100.00% [2/2 00:00&lt;00:00]\n",
       "    </div>\n",
       "    "
      ],
      "text/plain": [
       "<IPython.core.display.HTML object>"
      ]
     },
     "metadata": {},
     "output_type": "display_data"
    },
    {
     "name": "stdout",
     "output_type": "stream",
     "text": [
      "CMIP.CSIRO-ARCCSS.ACCESS-CM2.historical.Amon.gn\n",
      "CMIP.CCCma.CanESM5.historical.Amon.gn\n",
      "\n",
      "Compiling model data for 'historical' and 'tasmin'.\n",
      "\n",
      "--> The keys in the returned dictionary of datasets are constructed as follows:\n",
      "\t'activity_id.institution_id.source_id.experiment_id.table_id.grid_label'\n"
     ]
    },
    {
     "data": {
      "text/html": [
       "\n",
       "<style>\n",
       "    /* Turns off some styling */\n",
       "    progress {\n",
       "        /* gets rid of default border in Firefox and Opera. */\n",
       "        border: none;\n",
       "        /* Needs to be in here for Safari polyfill so background images work as expected. */\n",
       "        background-size: auto;\n",
       "    }\n",
       "    progress:not([value]), progress:not([value])::-webkit-progress-bar {\n",
       "        background: repeating-linear-gradient(45deg, #7e7e7e, #7e7e7e 10px, #5c5c5c 10px, #5c5c5c 20px);\n",
       "    }\n",
       "    .progress-bar-interrupted, .progress-bar-interrupted::-webkit-progress-bar {\n",
       "        background: #F44336;\n",
       "    }\n",
       "</style>\n"
      ],
      "text/plain": [
       "<IPython.core.display.HTML object>"
      ]
     },
     "metadata": {},
     "output_type": "display_data"
    },
    {
     "data": {
      "text/html": [
       "\n",
       "    <div>\n",
       "      <progress value='2' class='' max='2' style='width:300px; height:20px; vertical-align: middle;'></progress>\n",
       "      100.00% [2/2 00:00&lt;00:00]\n",
       "    </div>\n",
       "    "
      ],
      "text/plain": [
       "<IPython.core.display.HTML object>"
      ]
     },
     "metadata": {},
     "output_type": "display_data"
    },
    {
     "name": "stdout",
     "output_type": "stream",
     "text": [
      "CMIP.CSIRO-ARCCSS.ACCESS-CM2.historical.Amon.gn\n",
      "CMIP.CCCma.CanESM5.historical.Amon.gn\n",
      "\n",
      "Compiling model data for 'ssp126' and 'tas'.\n",
      "\n",
      "--> The keys in the returned dictionary of datasets are constructed as follows:\n",
      "\t'activity_id.institution_id.source_id.experiment_id.table_id.grid_label'\n"
     ]
    },
    {
     "data": {
      "text/html": [
       "\n",
       "<style>\n",
       "    /* Turns off some styling */\n",
       "    progress {\n",
       "        /* gets rid of default border in Firefox and Opera. */\n",
       "        border: none;\n",
       "        /* Needs to be in here for Safari polyfill so background images work as expected. */\n",
       "        background-size: auto;\n",
       "    }\n",
       "    progress:not([value]), progress:not([value])::-webkit-progress-bar {\n",
       "        background: repeating-linear-gradient(45deg, #7e7e7e, #7e7e7e 10px, #5c5c5c 10px, #5c5c5c 20px);\n",
       "    }\n",
       "    .progress-bar-interrupted, .progress-bar-interrupted::-webkit-progress-bar {\n",
       "        background: #F44336;\n",
       "    }\n",
       "</style>\n"
      ],
      "text/plain": [
       "<IPython.core.display.HTML object>"
      ]
     },
     "metadata": {},
     "output_type": "display_data"
    },
    {
     "data": {
      "text/html": [
       "\n",
       "    <div>\n",
       "      <progress value='3' class='' max='3' style='width:300px; height:20px; vertical-align: middle;'></progress>\n",
       "      100.00% [3/3 00:06&lt;00:00]\n",
       "    </div>\n",
       "    "
      ],
      "text/plain": [
       "<IPython.core.display.HTML object>"
      ]
     },
     "metadata": {},
     "output_type": "display_data"
    },
    {
     "name": "stdout",
     "output_type": "stream",
     "text": [
      "ScenarioMIP.CSIRO-ARCCSS.ACCESS-CM2.ssp126.Amon.gn\n"
     ]
    },
    {
     "ename": "ValueError",
     "evalue": "Date range is invalid for pandas DatetimeIndex, try using `use_cftime=True`.",
     "output_type": "error",
     "traceback": [
      "\u001b[0;31m---------------------------------------------------------------------------\u001b[0m",
      "\u001b[0;31mOutOfBoundsDatetime\u001b[0m                       Traceback (most recent call last)",
      "File \u001b[0;32m/opt/homebrew/Caskroom/miniforge/base/envs/py310/lib/python3.10/site-packages/xarray/coding/cftime_offsets.py:1211\u001b[0m, in \u001b[0;36mdate_range\u001b[0;34m(start, end, periods, freq, tz, normalize, name, closed, inclusive, calendar, use_cftime)\u001b[0m\n\u001b[1;32m   1210\u001b[0m \u001b[39mtry\u001b[39;00m:\n\u001b[0;32m-> 1211\u001b[0m     \u001b[39mreturn\u001b[39;00m pd\u001b[39m.\u001b[39;49mdate_range(\n\u001b[1;32m   1212\u001b[0m         start\u001b[39m=\u001b[39;49mstart,\n\u001b[1;32m   1213\u001b[0m         end\u001b[39m=\u001b[39;49mend,\n\u001b[1;32m   1214\u001b[0m         periods\u001b[39m=\u001b[39;49mperiods,\n\u001b[1;32m   1215\u001b[0m         freq\u001b[39m=\u001b[39;49mfreq,\n\u001b[1;32m   1216\u001b[0m         tz\u001b[39m=\u001b[39;49mtz,\n\u001b[1;32m   1217\u001b[0m         normalize\u001b[39m=\u001b[39;49mnormalize,\n\u001b[1;32m   1218\u001b[0m         name\u001b[39m=\u001b[39;49mname,\n\u001b[1;32m   1219\u001b[0m         inclusive\u001b[39m=\u001b[39;49minclusive,\n\u001b[1;32m   1220\u001b[0m     )\n\u001b[1;32m   1221\u001b[0m \u001b[39mexcept\u001b[39;00m pd\u001b[39m.\u001b[39merrors\u001b[39m.\u001b[39mOutOfBoundsDatetime \u001b[39mas\u001b[39;00m err:\n",
      "File \u001b[0;32m/opt/homebrew/Caskroom/miniforge/base/envs/py310/lib/python3.10/site-packages/pandas/core/indexes/datetimes.py:945\u001b[0m, in \u001b[0;36mdate_range\u001b[0;34m(start, end, periods, freq, tz, normalize, name, inclusive, unit, **kwargs)\u001b[0m\n\u001b[1;32m    943\u001b[0m     freq \u001b[39m=\u001b[39m \u001b[39m\"\u001b[39m\u001b[39mD\u001b[39m\u001b[39m\"\u001b[39m\n\u001b[0;32m--> 945\u001b[0m dtarr \u001b[39m=\u001b[39m DatetimeArray\u001b[39m.\u001b[39;49m_generate_range(\n\u001b[1;32m    946\u001b[0m     start\u001b[39m=\u001b[39;49mstart,\n\u001b[1;32m    947\u001b[0m     end\u001b[39m=\u001b[39;49mend,\n\u001b[1;32m    948\u001b[0m     periods\u001b[39m=\u001b[39;49mperiods,\n\u001b[1;32m    949\u001b[0m     freq\u001b[39m=\u001b[39;49mfreq,\n\u001b[1;32m    950\u001b[0m     tz\u001b[39m=\u001b[39;49mtz,\n\u001b[1;32m    951\u001b[0m     normalize\u001b[39m=\u001b[39;49mnormalize,\n\u001b[1;32m    952\u001b[0m     inclusive\u001b[39m=\u001b[39;49minclusive,\n\u001b[1;32m    953\u001b[0m     unit\u001b[39m=\u001b[39;49munit,\n\u001b[1;32m    954\u001b[0m     \u001b[39m*\u001b[39;49m\u001b[39m*\u001b[39;49mkwargs,\n\u001b[1;32m    955\u001b[0m )\n\u001b[1;32m    956\u001b[0m \u001b[39mreturn\u001b[39;00m DatetimeIndex\u001b[39m.\u001b[39m_simple_new(dtarr, name\u001b[39m=\u001b[39mname)\n",
      "File \u001b[0;32m/opt/homebrew/Caskroom/miniforge/base/envs/py310/lib/python3.10/site-packages/pandas/core/arrays/datetimes.py:451\u001b[0m, in \u001b[0;36mDatetimeArray._generate_range\u001b[0;34m(cls, start, end, periods, freq, tz, normalize, ambiguous, nonexistent, inclusive, unit)\u001b[0m\n\u001b[1;32m    448\u001b[0m     xdr \u001b[39m=\u001b[39m _generate_range(\n\u001b[1;32m    449\u001b[0m         start\u001b[39m=\u001b[39mstart, end\u001b[39m=\u001b[39mend, periods\u001b[39m=\u001b[39mperiods, offset\u001b[39m=\u001b[39mfreq, unit\u001b[39m=\u001b[39munit\n\u001b[1;32m    450\u001b[0m     )\n\u001b[0;32m--> 451\u001b[0m     i8values \u001b[39m=\u001b[39m np\u001b[39m.\u001b[39marray([x\u001b[39m.\u001b[39m_value \u001b[39mfor\u001b[39;00m x \u001b[39min\u001b[39;00m xdr], dtype\u001b[39m=\u001b[39mnp\u001b[39m.\u001b[39mint64)\n\u001b[1;32m    453\u001b[0m endpoint_tz \u001b[39m=\u001b[39m start\u001b[39m.\u001b[39mtz \u001b[39mif\u001b[39;00m start \u001b[39mis\u001b[39;00m \u001b[39mnot\u001b[39;00m \u001b[39mNone\u001b[39;00m \u001b[39melse\u001b[39;00m end\u001b[39m.\u001b[39mtz\n",
      "File \u001b[0;32m/opt/homebrew/Caskroom/miniforge/base/envs/py310/lib/python3.10/site-packages/pandas/core/arrays/datetimes.py:451\u001b[0m, in \u001b[0;36m<listcomp>\u001b[0;34m(.0)\u001b[0m\n\u001b[1;32m    448\u001b[0m     xdr \u001b[39m=\u001b[39m _generate_range(\n\u001b[1;32m    449\u001b[0m         start\u001b[39m=\u001b[39mstart, end\u001b[39m=\u001b[39mend, periods\u001b[39m=\u001b[39mperiods, offset\u001b[39m=\u001b[39mfreq, unit\u001b[39m=\u001b[39munit\n\u001b[1;32m    450\u001b[0m     )\n\u001b[0;32m--> 451\u001b[0m     i8values \u001b[39m=\u001b[39m np\u001b[39m.\u001b[39marray([x\u001b[39m.\u001b[39m_value \u001b[39mfor\u001b[39;00m x \u001b[39min\u001b[39;00m xdr], dtype\u001b[39m=\u001b[39mnp\u001b[39m.\u001b[39mint64)\n\u001b[1;32m    453\u001b[0m endpoint_tz \u001b[39m=\u001b[39m start\u001b[39m.\u001b[39mtz \u001b[39mif\u001b[39;00m start \u001b[39mis\u001b[39;00m \u001b[39mnot\u001b[39;00m \u001b[39mNone\u001b[39;00m \u001b[39melse\u001b[39;00m end\u001b[39m.\u001b[39mtz\n",
      "File \u001b[0;32m/opt/homebrew/Caskroom/miniforge/base/envs/py310/lib/python3.10/site-packages/pandas/core/arrays/datetimes.py:2557\u001b[0m, in \u001b[0;36m_generate_range\u001b[0;34m(start, end, periods, offset, unit)\u001b[0m\n\u001b[1;32m   2554\u001b[0m \u001b[39mif\u001b[39;00m end \u001b[39mis\u001b[39;00m \u001b[39mNone\u001b[39;00m:\n\u001b[1;32m   2555\u001b[0m     \u001b[39m# error: No overload variant of \"__radd__\" of \"BaseOffset\" matches\u001b[39;00m\n\u001b[1;32m   2556\u001b[0m     \u001b[39m# argument type \"None\"\u001b[39;00m\n\u001b[0;32m-> 2557\u001b[0m     end \u001b[39m=\u001b[39m start \u001b[39m+\u001b[39;49m (periods \u001b[39m-\u001b[39;49m \u001b[39m1\u001b[39;49m) \u001b[39m*\u001b[39;49m offset  \u001b[39m# type: ignore[operator]\u001b[39;00m\n\u001b[1;32m   2559\u001b[0m \u001b[39mif\u001b[39;00m start \u001b[39mis\u001b[39;00m \u001b[39mNone\u001b[39;00m:\n\u001b[1;32m   2560\u001b[0m     \u001b[39m# error: No overload variant of \"__radd__\" of \"BaseOffset\" matches\u001b[39;00m\n\u001b[1;32m   2561\u001b[0m     \u001b[39m# argument type \"None\"\u001b[39;00m\n",
      "File \u001b[0;32m/opt/homebrew/Caskroom/miniforge/base/envs/py310/lib/python3.10/site-packages/pandas/_libs/tslibs/offsets.pyx:482\u001b[0m, in \u001b[0;36mpandas._libs.tslibs.offsets.BaseOffset.__add__\u001b[0;34m()\u001b[0m\n",
      "File \u001b[0;32m/opt/homebrew/Caskroom/miniforge/base/envs/py310/lib/python3.10/site-packages/pandas/_libs/tslibs/offsets.pyx:488\u001b[0m, in \u001b[0;36mpandas._libs.tslibs.offsets.BaseOffset.__add__\u001b[0;34m()\u001b[0m\n",
      "File \u001b[0;32m/opt/homebrew/Caskroom/miniforge/base/envs/py310/lib/python3.10/site-packages/pandas/_libs/tslibs/offsets.pyx:163\u001b[0m, in \u001b[0;36mpandas._libs.tslibs.offsets.apply_wraps.wrapper\u001b[0;34m()\u001b[0m\n",
      "File \u001b[0;32m/opt/homebrew/Caskroom/miniforge/base/envs/py310/lib/python3.10/site-packages/pandas/_libs/tslibs/offsets.pyx:2540\u001b[0m, in \u001b[0;36mpandas._libs.tslibs.offsets.MonthOffset._apply\u001b[0;34m()\u001b[0m\n",
      "File \u001b[0;32m/opt/homebrew/Caskroom/miniforge/base/envs/py310/lib/python3.10/site-packages/pandas/_libs/tslibs/offsets.pyx:4462\u001b[0m, in \u001b[0;36mpandas._libs.tslibs.offsets.shift_month\u001b[0;34m()\u001b[0m\n",
      "File \u001b[0;32m/opt/homebrew/Caskroom/miniforge/base/envs/py310/lib/python3.10/site-packages/pandas/_libs/tslibs/timestamps.pyx:2274\u001b[0m, in \u001b[0;36mpandas._libs.tslibs.timestamps.Timestamp.replace\u001b[0;34m()\u001b[0m\n",
      "File \u001b[0;32m/opt/homebrew/Caskroom/miniforge/base/envs/py310/lib/python3.10/site-packages/pandas/_libs/tslibs/np_datetime.pyx:218\u001b[0m, in \u001b[0;36mpandas._libs.tslibs.np_datetime.check_dts_bounds\u001b[0;34m()\u001b[0m\n",
      "\u001b[0;31mOutOfBoundsDatetime\u001b[0m: Out of bounds nanosecond timestamp: 2300-12-01 00:00:00",
      "\nThe above exception was the direct cause of the following exception:\n",
      "\u001b[0;31mValueError\u001b[0m                                Traceback (most recent call last)",
      "Cell \u001b[0;32mIn[9], line 1\u001b[0m\n\u001b[0;32m----> 1\u001b[0m data_dict \u001b[39m=\u001b[39m pwk\u001b[39m.\u001b[39;49miterate_compile_model_data([\u001b[39m'\u001b[39;49m\u001b[39mhistorical\u001b[39;49m\u001b[39m'\u001b[39;49m,\u001b[39m'\u001b[39;49m\u001b[39mssp126\u001b[39;49m\u001b[39m'\u001b[39;49m],\n\u001b[1;32m      2\u001b[0m                                           [\u001b[39m'\u001b[39;49m\u001b[39mtas\u001b[39;49m\u001b[39m'\u001b[39;49m,\u001b[39m'\u001b[39;49m\u001b[39mtasmax\u001b[39;49m\u001b[39m'\u001b[39;49m,\u001b[39m'\u001b[39;49m\u001b[39mtasmin\u001b[39;49m\u001b[39m'\u001b[39;49m],\n\u001b[1;32m      3\u001b[0m                                           [\u001b[39m'\u001b[39;49m\u001b[39mACCESS-CM2\u001b[39;49m\u001b[39m'\u001b[39;49m, \u001b[39m'\u001b[39;49m\u001b[39mCanESM5\u001b[39;49m\u001b[39m'\u001b[39;49m, \u001b[39m'\u001b[39;49m\u001b[39mTaiESM1\u001b[39;49m\u001b[39m'\u001b[39;49m],\n\u001b[1;32m      4\u001b[0m                                           \u001b[39m49.100\u001b[39;49m, \n\u001b[1;32m      5\u001b[0m                                           \u001b[39m-\u001b[39;49m\u001b[39m121.300\u001b[39;49m,\n\u001b[1;32m      6\u001b[0m                                           [\u001b[39m1\u001b[39;49m,\u001b[39m50\u001b[39;49m,\u001b[39m99\u001b[39;49m]\n\u001b[1;32m      7\u001b[0m                                           )\n",
      "File \u001b[0;32m/opt/homebrew/Caskroom/miniforge/base/envs/py310/lib/python3.10/site-packages/pyepwmorph/tools/workflow.py:97\u001b[0m, in \u001b[0;36miterate_compile_model_data\u001b[0;34m(pathways, variables, model_sources, longitude, latitude, percentiles)\u001b[0m\n\u001b[1;32m     95\u001b[0m         \u001b[39mprint\u001b[39m(\u001b[39mf\u001b[39m\u001b[39m\"\u001b[39m\u001b[39m\\n\u001b[39;00m\u001b[39mCompiling model data for \u001b[39m\u001b[39m'\u001b[39m\u001b[39m{\u001b[39;00mpathway\u001b[39m}\u001b[39;00m\u001b[39m'\u001b[39m\u001b[39m and \u001b[39m\u001b[39m'\u001b[39m\u001b[39m{\u001b[39;00mvariable\u001b[39m}\u001b[39;00m\u001b[39m'\u001b[39m\u001b[39m.\u001b[39m\u001b[39m\"\u001b[39m)\n\u001b[1;32m     96\u001b[0m         \u001b[39m# model_data_dict[pathway][variable] = variable\u001b[39;00m\n\u001b[0;32m---> 97\u001b[0m         result \u001b[39m=\u001b[39m compile_climate_model_data(model_sources, pathway, variable,\n\u001b[1;32m     98\u001b[0m                                             longitude, latitude, percentiles)\n\u001b[1;32m     99\u001b[0m         model_data_dict[pathway][variable] \u001b[39m=\u001b[39m result\n\u001b[1;32m    101\u001b[0m \u001b[39mreturn\u001b[39;00m model_data_dict\n",
      "File \u001b[0;32m/opt/homebrew/Caskroom/miniforge/base/envs/py310/lib/python3.10/site-packages/pyepwmorph/tools/workflow.py:57\u001b[0m, in \u001b[0;36mcompile_climate_model_data\u001b[0;34m(model_sources, pathway, variable, longitude, latitude, percentiles)\u001b[0m\n\u001b[1;32m     28\u001b[0m \u001b[39m\u001b[39m\u001b[39m\"\"\"\u001b[39;00m\n\u001b[1;32m     29\u001b[0m \u001b[39mClean up the CMIP6 model data given known inconsistencies\u001b[39;00m\n\u001b[1;32m     30\u001b[0m \u001b[39mAdditionally this script is necessary to spatially and temproally constrict the files\u001b[39;00m\n\u001b[0;32m   (...)\u001b[0m\n\u001b[1;32m     51\u001b[0m \u001b[39m        where columns are percentile and the rows are the timeseries\u001b[39;00m\n\u001b[1;32m     52\u001b[0m \u001b[39m\"\"\"\u001b[39;00m\n\u001b[1;32m     54\u001b[0m dataset_dict \u001b[39m=\u001b[39m access\u001b[39m.\u001b[39maccess_cmip6_data(model_sources,\n\u001b[1;32m     55\u001b[0m                                         pathway,\n\u001b[1;32m     56\u001b[0m                                         variable)\n\u001b[0;32m---> 57\u001b[0m dataset_dict \u001b[39m=\u001b[39m coordinate\u001b[39m.\u001b[39;49mcoordinate_cmip6_data(latitude,\n\u001b[1;32m     58\u001b[0m                                                 longitude,\n\u001b[1;32m     59\u001b[0m                                                 pathway,\n\u001b[1;32m     60\u001b[0m                                                 variable,\n\u001b[1;32m     61\u001b[0m                                                 dataset_dict)\n\u001b[1;32m     62\u001b[0m \u001b[39mreturn\u001b[39;00m assemble\u001b[39m.\u001b[39mbuild_cmip6_ensemble(percentiles, variable, dataset_dict)\n",
      "File \u001b[0;32m/opt/homebrew/Caskroom/miniforge/base/envs/py310/lib/python3.10/site-packages/pyepwmorph/models/coordinate.py:67\u001b[0m, in \u001b[0;36mcoordinate_cmip6_data\u001b[0;34m(latitude, longitude, pathway, variable, dset_dict)\u001b[0m\n\u001b[1;32m     65\u001b[0m \u001b[39m# formalize the index datatypes\u001b[39;00m\n\u001b[1;32m     66\u001b[0m ds\u001b[39m.\u001b[39mcoords[\u001b[39m'\u001b[39m\u001b[39myear\u001b[39m\u001b[39m'\u001b[39m] \u001b[39m=\u001b[39m ds\u001b[39m.\u001b[39mtime\u001b[39m.\u001b[39mdt\u001b[39m.\u001b[39myear\n\u001b[0;32m---> 67\u001b[0m ds\u001b[39m.\u001b[39mcoords[\u001b[39m'\u001b[39m\u001b[39mtime\u001b[39m\u001b[39m'\u001b[39m] \u001b[39m=\u001b[39m xr\u001b[39m.\u001b[39;49mdate_range(start\u001b[39m=\u001b[39;49m\u001b[39mstr\u001b[39;49m(ds\u001b[39m.\u001b[39;49mtime\u001b[39m.\u001b[39;49mdt\u001b[39m.\u001b[39;49myear\u001b[39m.\u001b[39;49mvalues[\u001b[39m0\u001b[39;49m]),\n\u001b[1;32m     68\u001b[0m                                   periods\u001b[39m=\u001b[39;49m\u001b[39mlen\u001b[39;49m(ds\u001b[39m.\u001b[39;49mtime\u001b[39m.\u001b[39;49mdt\u001b[39m.\u001b[39;49myear\u001b[39m.\u001b[39;49mvalues),\n\u001b[1;32m     69\u001b[0m                                   freq\u001b[39m=\u001b[39;49m\u001b[39m\"\u001b[39;49m\u001b[39mMS\u001b[39;49m\u001b[39m\"\u001b[39;49m, calendar\u001b[39m=\u001b[39;49m\u001b[39m\"\u001b[39;49m\u001b[39mstandard\u001b[39;49m\u001b[39m\"\u001b[39;49m,\n\u001b[1;32m     70\u001b[0m                                   use_cftime\u001b[39m=\u001b[39;49m\u001b[39mFalse\u001b[39;49;00m)\n\u001b[1;32m     72\u001b[0m \u001b[39m# Add variable array to dictionary\u001b[39;00m\n\u001b[1;32m     73\u001b[0m \u001b[39mfor\u001b[39;00m d \u001b[39min\u001b[39;00m ds\u001b[39m.\u001b[39mdims:\n",
      "File \u001b[0;32m/opt/homebrew/Caskroom/miniforge/base/envs/py310/lib/python3.10/site-packages/xarray/coding/cftime_offsets.py:1223\u001b[0m, in \u001b[0;36mdate_range\u001b[0;34m(start, end, periods, freq, tz, normalize, name, closed, inclusive, calendar, use_cftime)\u001b[0m\n\u001b[1;32m   1221\u001b[0m     \u001b[39mexcept\u001b[39;00m pd\u001b[39m.\u001b[39merrors\u001b[39m.\u001b[39mOutOfBoundsDatetime \u001b[39mas\u001b[39;00m err:\n\u001b[1;32m   1222\u001b[0m         \u001b[39mif\u001b[39;00m use_cftime \u001b[39mis\u001b[39;00m \u001b[39mFalse\u001b[39;00m:\n\u001b[0;32m-> 1223\u001b[0m             \u001b[39mraise\u001b[39;00m \u001b[39mValueError\u001b[39;00m(\n\u001b[1;32m   1224\u001b[0m                 \u001b[39m\"\u001b[39m\u001b[39mDate range is invalid for pandas DatetimeIndex, try using `use_cftime=True`.\u001b[39m\u001b[39m\"\u001b[39m\n\u001b[1;32m   1225\u001b[0m             ) \u001b[39mfrom\u001b[39;00m \u001b[39merr\u001b[39;00m\n\u001b[1;32m   1226\u001b[0m \u001b[39melif\u001b[39;00m use_cftime \u001b[39mis\u001b[39;00m \u001b[39mFalse\u001b[39;00m:\n\u001b[1;32m   1227\u001b[0m     \u001b[39mraise\u001b[39;00m \u001b[39mValueError\u001b[39;00m(\n\u001b[1;32m   1228\u001b[0m         \u001b[39mf\u001b[39m\u001b[39m\"\u001b[39m\u001b[39mInvalid calendar \u001b[39m\u001b[39m{\u001b[39;00mcalendar\u001b[39m}\u001b[39;00m\u001b[39m for pandas DatetimeIndex, try using `use_cftime=True`.\u001b[39m\u001b[39m\"\u001b[39m\n\u001b[1;32m   1229\u001b[0m     )\n",
      "\u001b[0;31mValueError\u001b[0m: Date range is invalid for pandas DatetimeIndex, try using `use_cftime=True`."
     ]
    }
   ],
   "source": [
    "data_dict = pwk.iterate_compile_model_data(['historical','ssp126'],\n",
    "                                          ['tas','tasmax','tasmin'],\n",
    "                                          ['ACCESS-CM2', 'CanESM5', 'TaiESM1'],\n",
    "                                          49.100, \n",
    "                                          -121.300,\n",
    "                                          [1,50,99]\n",
    "                                          )\n"
   ]
  }
 ],
 "metadata": {
  "kernelspec": {
   "display_name": "py310",
   "language": "python",
   "name": "python3"
  },
  "language_info": {
   "codemirror_mode": {
    "name": "ipython",
    "version": 3
   },
   "file_extension": ".py",
   "mimetype": "text/x-python",
   "name": "python",
   "nbconvert_exporter": "python",
   "pygments_lexer": "ipython3",
   "version": "3.10.12"
  },
  "orig_nbformat": 4
 },
 "nbformat": 4,
 "nbformat_minor": 2
}
